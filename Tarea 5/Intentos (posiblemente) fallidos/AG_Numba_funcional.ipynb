{
 "cells": [
  {
   "cell_type": "code",
   "execution_count": 1,
   "metadata": {},
   "outputs": [],
   "source": [
    "import numba\n",
    "import numpy as np\n"
   ]
  },
  {
   "cell_type": "markdown",
   "metadata": {},
   "source": [
    "**Funciones de prueba:**"
   ]
  },
  {
   "cell_type": "code",
   "execution_count": 2,
   "metadata": {},
   "outputs": [
    {
     "name": "stdout",
     "output_type": "stream",
     "text": [
      "14.0\n"
     ]
    }
   ],
   "source": [
    "@numba.njit\n",
    "def Sphere(arr):\n",
    "    \"\"\"\n",
    "    Esta función recibe como parámetro un vector de n entradas, ingresado como un np.array,\n",
    "    y devuelve el escalar que resulta de evaluar la función de la esfera en el vector.\n",
    "    Se usa en el intervalo de búsqueda [-5.12, 5.12] y su óptimo global está en f([0,..,0])=0\n",
    "\n",
    "    Ejemplo de uso:\n",
    "        > Sphere(np.array([0, 0]))\n",
    "\n",
    "        > 0\n",
    "    \"\"\"\n",
    "    suma = 0.0  # Usar un float para la suma\n",
    "    for x in arr:\n",
    "        suma += x ** 2\n",
    "    return suma\n",
    "\n",
    "intervaloSphere = (-5.12, 5.12)\n",
    "\n",
    "\n",
    "# Ejemplo de uso (y compilación AOT)\n",
    "resultado = Sphere(np.array([1.0, 2.0, 3.0]))\n",
    "print(resultado)\n"
   ]
  },
  {
   "cell_type": "code",
   "execution_count": 3,
   "metadata": {},
   "outputs": [
    {
     "name": "stdout",
     "output_type": "stream",
     "text": [
      "-4.440892098500626e-16\n"
     ]
    }
   ],
   "source": [
    "@numba.njit\n",
    "def Ackley(arr):\n",
    "    \"\"\"\n",
    "    Esta función recibe como parámetro un vector de n entradas, ingresado como un np.array,\n",
    "    y devuelve el escalar que resulta de evaluar la función Ackley en el vector.\n",
    "    Se usa en el intervalo de búsqueda [-30, 30] y su óptimo global está en f([0,..,0])=0.\n",
    "\n",
    "    Ejemplo de uso:\n",
    "        > Ackley(np.array([0, 0]))\n",
    "\n",
    "        > 0\n",
    "    \"\"\"\n",
    "    suma1 = 0.0\n",
    "    suma2 = 0.0\n",
    "    n = arr.shape[0]  # Usar el tamaño del array de NumPy\n",
    "    for x in arr:\n",
    "        suma1 += x ** 2\n",
    "        suma2 += np.cos(2 * np.pi * x)\n",
    "    \n",
    "    # Calcular el resultado de la función Ackley\n",
    "    term1 = 20 + np.exp(1) - 20 * np.exp(-0.2 * np.sqrt(suma1 / n))\n",
    "    term2 = np.exp(suma2 / n)\n",
    "    return term1 - term2\n",
    "\n",
    "intervaloAckley = (-30, 30)\n",
    "\n",
    "# Ejemplo de uso (y compilación AOT)\n",
    "resultado = Ackley(np.array([0, 0]))\n",
    "print(resultado)  # Debería imprimir un valor cercano a 0\n"
   ]
  },
  {
   "cell_type": "code",
   "execution_count": 4,
   "metadata": {},
   "outputs": [
    {
     "name": "stdout",
     "output_type": "stream",
     "text": [
      "0.0\n"
     ]
    }
   ],
   "source": [
    "@numba.njit\n",
    "def Griewank(arr):\n",
    "    \"\"\"\n",
    "    Esta función recibe como parámetro un vector de n entradas, ingresado como un np.array,\n",
    "    y devuelve el escalar que resulta de evaluar la función Griewank en el vector.\n",
    "    Se usa en el intervalo de búsqueda [-600, 600] y su óptimo global está en f([0,..,0])=0.\n",
    "\n",
    "    Ejemplo de uso:\n",
    "        > Griewank(np.array([0, 0]))\n",
    "\n",
    "        > 0\n",
    "    \"\"\"\n",
    "    suma = 0.0\n",
    "    m = 1.0  # Inicializar en 1 para la multiplicación de cosenos\n",
    "    n = arr.shape[0]  # Obtener el número de elementos en el array\n",
    "\n",
    "    for i in range(1, n + 1):\n",
    "        x_i = arr[i - 1]  # Acceder al elemento en el índice correspondiente\n",
    "        suma += (x_i ** 2) / 4000.0  # Sumar la parte de la función\n",
    "        m *= np.cos(x_i / np.sqrt(i))  # Multiplicar por el coseno\n",
    "\n",
    "    return 1 + suma - m\n",
    "\n",
    "intervaloGriewank = (-600, 600)\n",
    "\n",
    "# Ejemplo de uso (y compilación AOT)\n",
    "resultado = Griewank(np.array([0, 0]))\n",
    "print(resultado)  # Debería imprimir 0.0\n"
   ]
  },
  {
   "cell_type": "code",
   "execution_count": 5,
   "metadata": {},
   "outputs": [
    {
     "name": "stdout",
     "output_type": "stream",
     "text": [
      "98.0\n"
     ]
    }
   ],
   "source": [
    "@numba.njit\n",
    "def Rastrigin(arr):\n",
    "    \"\"\"\n",
    "    Esta función recibe como parámetro un vector de n entradas, ingresado como un np.array,\n",
    "    y devuelve el escalar que resulta de evaluar la función de Rastrigin en el vector.\n",
    "    Tiene mínimo global en f([0,..,0]).\n",
    "\n",
    "    Ejemplo de uso:\n",
    "        > Rastrigin(np.array([2, 3, 6, 7]))\n",
    "\n",
    "        > 98.0\n",
    "    \"\"\"\n",
    "    n = arr.shape[0]  # Obtener el número de elementos en el array\n",
    "    suma = 0.0\n",
    "\n",
    "    for x in arr:\n",
    "        suma += x ** 2 - 10 * np.cos(2 * np.pi * x)  # Calcular la suma de la función Rastrigin\n",
    "\n",
    "    return 10 * n + suma  # Retornar el resultado final\n",
    "\n",
    "intervaloRastrigin = (-5.12, 5.12)\n",
    "\n",
    "# Ejemplo de uso (y compilación AOT)\n",
    "resultado = Rastrigin(np.array([2, 3, 6, 7]))\n",
    "print(resultado)  # Debería imprimir 98.0\n"
   ]
  },
  {
   "cell_type": "code",
   "execution_count": 6,
   "metadata": {},
   "outputs": [
    {
     "name": "stdout",
     "output_type": "stream",
     "text": [
      "0.0\n"
     ]
    }
   ],
   "source": [
    "@numba.njit\n",
    "def Rosenbrock(x):\n",
    "    \"\"\"\n",
    "    Esta función recibe como parámetro un vector de n entradas, ingresado como un array de NumPy\n",
    "    y devuelve el escalar que resulta de evaluar la función de Rosenbrock en el vector.\n",
    "    Tiene un mínimo global en f(1, ..., 1).\n",
    "\n",
    "    Ejemplo de uso:\n",
    "      > Rosenbrock(np.array([1, 1]))\n",
    "      > 0\n",
    "    \"\"\"\n",
    "    n = x.shape[0]  # Obtener el tamaño del array\n",
    "    suma = 0.0\n",
    "    for i in range(n - 1):\n",
    "        suma += 100 * (x[i + 1] - (x[i]) ** 2) ** 2 + (x[i] - 1) ** 2\n",
    "    return suma\n",
    "\n",
    "intervaloRosenbrock = (-2.048, 2.048)\n",
    "\n",
    "# Ejemplo de uso (y compilación AOT)\n",
    "resultado = Rosenbrock(np.array([1, 1]))\n",
    "print(resultado)  # Debería imprimir 0.0\n"
   ]
  },
  {
   "cell_type": "markdown",
   "metadata": {},
   "source": [
    "**Funciones del algoritmo genético.**"
   ]
  },
  {
   "cell_type": "code",
   "execution_count": 7,
   "metadata": {},
   "outputs": [],
   "source": [
    "kindividuos = 35 \n",
    "dimension = 10\n",
    "intervalo = intervaloRosenbrock\n",
    "funcion = Rosenbrock\n",
    "nBits = 20\n",
    "nCortes = 15\n",
    "probaMutacion = 0.5\n",
    "iteraciones = 1000\n"
   ]
  },
  {
   "cell_type": "code",
   "execution_count": 8,
   "metadata": {},
   "outputs": [],
   "source": [
    "'''Función que nos genera una población inicial de 2k individuos y \n",
    "   recibe como parámetros: La 'k' y el hipercubo al que pertenecen \n",
    "   los vectores (o sea, la dimensión 'n' y el intervalo [a,b] al que\n",
    "   pertenecen cada una de las entradas de los vectores).'''\n",
    "\n",
    "import numpy as np\n",
    "\n",
    "@numba.njit\n",
    "def Generar_Poblacion(k, n, intervalo):\n",
    "    \n",
    "   a, b = intervalo\n",
    "\n",
    "   # Se genera una matriz de tamaño (2k, n) con valores aleatorios\n",
    "   # uniformes (o sea, una población inicial de 2k individuos donde \n",
    "   # cada uno vive en Rn):\n",
    "   poblacionMatriz = np.random.uniform(a,b, size=(2*k, n))\n",
    "\n",
    "   return poblacionMatriz # No hacemos la conversión en lista de listas\n",
    "                          # porque necesitamos de `numba`.\n"
   ]
  },
  {
   "cell_type": "code",
   "execution_count": 9,
   "metadata": {},
   "outputs": [
    {
     "name": "stdout",
     "output_type": "stream",
     "text": [
      "[ 1.21280886  0.55683995 -1.31769236 -1.44958367 -0.69175333 -0.76202639\n",
      "  1.89601948  0.74246922  0.08820668 -1.78711215]\n"
     ]
    }
   ],
   "source": [
    "# Ejemplo de uso (y compilación AOT)\n",
    "\n",
    "pob = Generar_Poblacion(kindividuos, dimension, intervalo)\n",
    "print(pob[0])\n"
   ]
  },
  {
   "cell_type": "code",
   "execution_count": 10,
   "metadata": {},
   "outputs": [],
   "source": [
    "'''Definimos una función de aptitud que recibe como parámetros una\n",
    "   función de prueba y una población de 2k individuos y retorna una\n",
    "   lista con las probabilidades de selección (p_i) de todos los \n",
    "   individuos de la población. Además de que nos da al mejor individuo\n",
    "   en la población.'''\n",
    "\n",
    "\n",
    "# `aptitud` es un parámetro opcional sólo para elegir qué retorna la \n",
    "# función.\n",
    "@numba.njit\n",
    "def Probabilidades_De_Seleccion_Y_Mas_Apto(funcion, poblacion, aptitud=1):\n",
    "    \n",
    "    # Necesitamos el número de individuos de la población:\n",
    "    numIndividuos = len(poblacion) \n",
    "    \n",
    "    # Generamos un array con las evaluaciones en la función objetivo\n",
    "    evaluaciones = np.empty(numIndividuos) # Primero generamos un array\n",
    "                                           # vacío de tamaño adecuado.\n",
    "    for i in range(numIndividuos):\n",
    "        evaluaciones[i] = funcion(poblacion[i])\n",
    "\n",
    "    # Generamos un array de las aptitudes de los individuos en la \n",
    "    # población.\n",
    "    aptitudes = np.exp(1e-9 * (-evaluaciones))\n",
    "\n",
    "    # Encontramos el índice del mejor individuo (menor evaluación)\n",
    "    mejorIndice = np.argmax(aptitudes)\n",
    "    masApto = poblacion[mejorIndice]\n",
    "\n",
    "    # Obtenemos el 'tamaño del pastel':\n",
    "    sumaAptitudes = np.sum(aptitudes)\n",
    "\n",
    "    # Calculamos las probabilidades de selección (p_i) para todos los\n",
    "    # individuos:\n",
    "    probabilidades = aptitudes / sumaAptitudes\n",
    "\n",
    "    # Inicializamos mejorApti y promedioApti\n",
    "    mejorApti = np.nan\n",
    "    promedioApti = np.nan\n",
    "\n",
    "    # Si aptitud es distinto de 0, calculamos mejor aptitud y promedio de aptitudes\n",
    "    if aptitud != 0:\n",
    "        mejorApti = aptitudes[mejorIndice]\n",
    "        promedioApti = np.mean(aptitudes)\n",
    "\n",
    "    return probabilidades, masApto, mejorApti, promedioApti\n"
   ]
  },
  {
   "cell_type": "code",
   "execution_count": 11,
   "metadata": {},
   "outputs": [
    {
     "name": "stdout",
     "output_type": "stream",
     "text": [
      "0.014285724519501062 -0.6473520432798086 0.9999996534774201 0.9999956366031528\n"
     ]
    }
   ],
   "source": [
    "# Ejemplo de uso (y compilación AOT)\n",
    "probas, masApto, mejorApti, promedioApti = Probabilidades_De_Seleccion_Y_Mas_Apto(funcion, pob)\n",
    "\n",
    "print(probas[0], masApto[0], mejorApti, promedioApti)\n"
   ]
  },
  {
   "cell_type": "code",
   "execution_count": 12,
   "metadata": {},
   "outputs": [],
   "source": [
    "'''Definimos una función que recibe la lista de probabilidades \n",
    "   de selección y nos retorna la que corresponde a la de las \n",
    "   probabilidades acumulativas.'''\n",
    "\n",
    "@numba.njit\n",
    "def Probas_Acumulativas(probabilidades):\n",
    "\n",
    "    # Calculamos las probabilidades acumulativas (q_i) para todos los\n",
    "    # individuos:\n",
    "    probasAcumulativas = np.cumsum(probabilidades)\n",
    "\n",
    "    return probasAcumulativas # Retornamos las `probasAcumulativas` como\n",
    "                              # un arreglo de NumPy (igual es iterable).\n"
   ]
  },
  {
   "cell_type": "code",
   "execution_count": 13,
   "metadata": {},
   "outputs": [
    {
     "name": "stdout",
     "output_type": "stream",
     "text": [
      "0.24285716834346574\n"
     ]
    }
   ],
   "source": [
    "# Ejemplo de uso (y compilación AOT)\n",
    "qis = Probas_Acumulativas(probas)\n",
    "print(qis[16])\n"
   ]
  },
  {
   "cell_type": "markdown",
   "metadata": {},
   "source": [
    "Padres mediante el uso de la ruleta:"
   ]
  },
  {
   "cell_type": "code",
   "execution_count": 14,
   "metadata": {},
   "outputs": [],
   "source": [
    "'''Estas funciones son las que nos ayudan a generar a los padres mediante\n",
    "   el uso de la ruleta.'''\n",
    "   \n",
    "\n",
    "'''La primera es para seleccionar padres (uno) y recibe como parámetro \n",
    "   la lista de las probabilidades acumulativas.\n",
    "   \n",
    "   Nos retornará el índice en la lista que le corresponde al padre \n",
    "   elegido con esa regla.'''\n",
    "\n",
    "@numba.njit\n",
    "def Seleccionar_Padre_Ruleta(probasAcumuladas):\n",
    "   r = np.random.random() # Generamos un número aleatorio entre 0 y 1\n",
    "\n",
    "   tol=1e-9\n",
    "   \n",
    "   # Recorremos las probabilidades acumuladas para seleccionar el padre\n",
    "   for i in range(len(probasAcumuladas)):\n",
    "      if r <= probasAcumuladas[i] or np.isclose(r, probasAcumuladas[i], atol=tol):\n",
    "         return i  # Índice del individuo seleccionado\n",
    "               \n",
    "   return -1  # En caso de que no se seleccione, aunque esto no debería suceder.\n"
   ]
  },
  {
   "cell_type": "code",
   "execution_count": 15,
   "metadata": {},
   "outputs": [],
   "source": [
    "'''La segunda es para generar la lista de padres elegidos para \n",
    "   reproducirse. Necesitamos 2k nuevos individuos, así que se van a \n",
    "   elegir k parejas (cada par de padres produce dos hijos).\n",
    "   La función recibe como parámetros: la lista de individuos, las\n",
    "   probabilidades acumulativas y un máximo de intentos para intentar evitar\n",
    "   la generación de clones (en este caso, vamos a considerar un máximo\n",
    "   de 100 para cada elección de un segundo padre, pero tenemos la \n",
    "   apertura de modificarlo después).\n",
    "   Retorna la lista de parejas de padres elegidos.'''\n",
    "\n",
    "@numba.njit\n",
    "def Generar_Parejas(individuos, probasAcumuladas, maxIntentos=100):\n",
    "    \n",
    "    numIndividuos = len(individuos)\n",
    "\n",
    "    # Validación: si no hay suficientes individuos\n",
    "    if numIndividuos < 2:\n",
    "        print(\"Error: No hay suficientes individuos para generar parejas.\")\n",
    "        return np.empty((0, 2, individuos.shape[1]))\n",
    "        # Regresamos un array vacío\n",
    "\n",
    "    # Como len(individuos) = 2k, le pedimos que elija len(individuos)/2 \n",
    "    # parejas de padres.\n",
    "    parejasNecesarias = numIndividuos // 2\n",
    "    \n",
    "    \n",
    "    parejas_idxs = np.empty((parejasNecesarias, 2), dtype=np.int32)\n",
    "    # Creamos un array para los índices de tamaño adecuado.\n",
    "    # Como queremos parejas, el array tiene dos columnas, la idea es que\n",
    "    # cada fila del array represente una pareja de padres.\n",
    "\n",
    "    '''En otras palabras, `parejas_idxs` tendrá la forma:\n",
    "       [[padre1_idx1, padre2_idx1],\n",
    "       [padre1_idx2, padre2_idx2],\n",
    "       [padre1_idx3, padre2_idx3],\n",
    "       ...\n",
    "       [padre1_idxN, padre2_idxN]]'''\n",
    "\n",
    "\n",
    "    for i in range(parejasNecesarias):\n",
    "        padre1_idx = Seleccionar_Padre_Ruleta(probasAcumuladas)\n",
    "\n",
    "        intentos = 0\n",
    "        while True:\n",
    "            padre2_idx = Seleccionar_Padre_Ruleta(probasAcumuladas)\n",
    "            if padre1_idx != padre2_idx:\n",
    "                break  # Padres diferentes, salimos del ciclo\n",
    "            intentos += 1 # No encontramos un padre distinto, hacemos \n",
    "                          # otro intento.\n",
    "            if intentos >= maxIntentos: # Rebasamos los intentos que\n",
    "                                        # teníamos permitidos.\n",
    "                padre2_idx = padre1_idx # Aceptamos el clon.\n",
    "                break\n",
    "\n",
    "        parejas_idxs[i, 0] = padre1_idx # Primer padre se asigna en la\n",
    "                                        # fila `i` de la primer columna.\n",
    "        parejas_idxs[i, 1] = padre2_idx # Segundo padre se asigna en la\n",
    "                                        # fila `i` de la segunda columna.\n",
    "\n",
    "    # Ahora construimos el array de parejas usando los índices generados\n",
    "    # para almacenar las parejas de individuos.\n",
    "    parejas = np.empty((parejasNecesarias, 2, individuos.shape[1]), dtype=individuos.dtype)\n",
    "    \n",
    "    for i in range(parejasNecesarias):\n",
    "        parejas[i, 0] = individuos[parejas_idxs[i, 0]]  # Primer padre\n",
    "        parejas[i, 1] = individuos[parejas_idxs[i, 1]]  # Segundo padre\n",
    "\n",
    "    \n",
    "    return parejas\n"
   ]
  },
  {
   "cell_type": "code",
   "execution_count": 16,
   "metadata": {},
   "outputs": [
    {
     "name": "stdout",
     "output_type": "stream",
     "text": [
      "[[-1.37304197  1.91727272 -0.3704863   0.98484994  2.03615133  0.29972759\n",
      "   0.57770423 -0.88412343  0.9699244   2.02487877]\n",
      " [-1.55254123  1.07272438 -0.07652456 -1.28134201  0.15261907 -1.35750601\n",
      "   1.60585771  0.8768048   1.60202561 -1.77170767]]\n"
     ]
    }
   ],
   "source": [
    "# Ejemplo de uso (y compilación AOT)\n",
    "padres = Generar_Parejas(pob, qis)\n",
    "print(padres[0])\n"
   ]
  },
  {
   "cell_type": "markdown",
   "metadata": {},
   "source": [
    "Funciones auxiliares para la codificación en binario:"
   ]
  },
  {
   "cell_type": "code",
   "execution_count": 17,
   "metadata": {},
   "outputs": [],
   "source": [
    "@numba.njit\n",
    "def codifica_real(x, n_bit, intervalo):\n",
    "    \"\"\"\n",
    "    Codifica un número real en el intervalo [a,b] utilizando n_bit bits\n",
    "    y una partición uniforme en [a, b].\n",
    "\n",
    "    Parámetros:\n",
    "    x: número real a codificar.\n",
    "    n_bit: número de bits a utilizar.\n",
    "    intervalo: (a, b), extremos del intervalo.\n",
    "\n",
    "    Retorno:\n",
    "    Arreglo binario que representa al número real x con n_bit bits\n",
    "    en el intervalo [a, b].\n",
    "    \"\"\"\n",
    "    a, b = intervalo\n",
    "\n",
    "    # Calcula la precisión de la representación.\n",
    "    precision = (b - a) / ((2 ** n_bit) - 1)\n",
    "\n",
    "    # Asegura que el número esté dentro del rango de la partición.\n",
    "    x = max(a, min(b, x))\n",
    "\n",
    "    # Calcula el índice del número en la partición.\n",
    "    index = int((x - a) / precision)\n",
    "\n",
    "    # Codifica el índice a binario\n",
    "    if index < 0 or index >= (1 << n_bit):\n",
    "        raise ValueError(f\"Índice fuera del rango representable con {n_bit} bits.\")\n",
    "\n",
    "    x_binario = np.zeros(n_bit, dtype=np.int32)\n",
    "    for i in range(n_bit - 1, -1, -1):\n",
    "        x_binario[i] = index & 1\n",
    "        index >>= 1\n",
    "\n",
    "    return x_binario\n",
    "\n",
    "@numba.njit\n",
    "def codifica_vector(vector_reales, n_bit, intervalo):\n",
    "    \"\"\"\n",
    "    Codifica un vector de números reales en un vector de vectores binarios\n",
    "    utilizando n_bit bits.\n",
    "\n",
    "    Parámetros:\n",
    "    vector_reales: Arreglo de números reales a codificar\n",
    "    n_bit: Número de bits a utilizar para las entradas de nuestro arreglo.\n",
    "    intervalo: (a, b), extremos del intervalo.\n",
    "\n",
    "    Retorno:\n",
    "    Arreglo de arreglos binarios, donde cada sub-arreglo representa un número real\n",
    "    codificado en binario.\n",
    "    \"\"\"\n",
    "    dim_x = vector_reales.shape[0]\n",
    "\n",
    "    # Inicializa un arreglo vacío para almacenar los vectores binarios.\n",
    "    vector_binario = np.empty((dim_x, n_bit), dtype=np.int32)\n",
    "\n",
    "    for i in range(dim_x):\n",
    "        vector_binario[i] = codifica_real(vector_reales[i], n_bit, intervalo)\n",
    "\n",
    "    return vector_binario\n"
   ]
  },
  {
   "cell_type": "code",
   "execution_count": 18,
   "metadata": {},
   "outputs": [],
   "source": [
    "@numba.njit\n",
    "def Padres_Binarios(parejas, nBits, intervalo):\n",
    "    \"\"\"\n",
    "    Codifica parejas de vectores en binario.\n",
    "    \"\"\"\n",
    "    numParejas = parejas.shape[0]\n",
    "    parejasBinarias = np.empty((numParejas, 2, parejas.shape[2], nBits), dtype=np.int32)\n",
    "\n",
    "    for i in range(numParejas):\n",
    "        padre1 = parejas[i, 0]  # Vector 1\n",
    "        padre2 = parejas[i, 1]  # Vector 2\n",
    "\n",
    "        # Codifica cada padre en binario y lo almacena.\n",
    "        parejasBinarias[i, 0] = codifica_vector(padre1, nBits, intervalo)\n",
    "        parejasBinarias[i, 1] = codifica_vector(padre2, nBits, intervalo)\n",
    "\n",
    "    return parejasBinarias\n"
   ]
  },
  {
   "cell_type": "code",
   "execution_count": 19,
   "metadata": {},
   "outputs": [
    {
     "name": "stdout",
     "output_type": "stream",
     "text": [
      "[[0 0 1 0 1 0 1 0 0 0 1 0 1 1 1 1 0 1 0 1]\n",
      " [1 1 1 1 0 1 1 1 1 1 0 1 0 1 0 0 0 1 0 0]\n",
      " [0 1 1 0 1 0 0 0 1 1 0 1 1 0 0 0 0 0 1 1]\n",
      " [1 0 1 1 1 1 0 1 1 0 0 0 1 1 0 1 1 0 0 0]\n",
      " [1 1 1 1 1 1 1 1 0 1 0 0 0 0 1 0 0 1 0 1]\n",
      " [1 0 0 1 0 0 1 0 1 0 1 1 1 0 1 1 1 0 0 1]\n",
      " [1 0 1 0 0 1 0 0 0 0 0 1 1 0 1 1 0 0 1 1]\n",
      " [0 1 0 0 1 0 0 0 1 0 1 1 1 1 1 0 0 0 0 0]\n",
      " [1 0 1 1 1 1 0 0 1 0 0 1 1 1 1 0 1 0 1 1]\n",
      " [1 1 1 1 1 1 1 0 1 0 0 0 1 1 0 1 1 1 1 1]]\n"
     ]
    }
   ],
   "source": [
    "# Ejemplo de uso (y compilación AOT)\n",
    "padresBinarios = Padres_Binarios(padres, nBits, intervalo)\n",
    "print(padresBinarios[0,0])\n"
   ]
  },
  {
   "cell_type": "code",
   "execution_count": 20,
   "metadata": {},
   "outputs": [],
   "source": [
    "'''Función que realiza la cruza de n puntos. Recibe como parámetros: el\n",
    "   array de los padres (en arreglos binarios), el número de cortes que \n",
    "   se quieren hacer por cromosoma.Retorna una lista de 2k hijos (como \n",
    "   arreglos binarios).'''\n",
    "\n",
    "@numba.njit\n",
    "def Cruza_N_Puntos_np_numba(padres, nPuntos):\n",
    "    numParejas = padres.shape[0]  # Número de parejas de padres\n",
    "    numCromosomas = padres[0, 0].shape[0]  # Número de cromosomas por padre (filas)\n",
    "    numGenes = padres[0, 0].shape[1]  # Número de genes por cromosoma (columnas)\n",
    "\n",
    "    # Inicializamos un array vacío para almacenar los hijos\n",
    "    hijos = np.empty((2 * numParejas, numCromosomas, numGenes), dtype=np.int32)\n",
    "\n",
    "    # Iteramos sobre cada pareja de padres\n",
    "    for pareja_idx in range(numParejas):\n",
    "        padre1 = padres[pareja_idx, 0]\n",
    "        padre2 = padres[pareja_idx, 1]\n",
    "\n",
    "        # Generamos los arrays vacíos para los hijos de la pareja actual\n",
    "        hijo1 = np.empty_like(padre1)\n",
    "        hijo2 = np.empty_like(padre2)\n",
    "\n",
    "        # Generar n puntos de corte únicos\n",
    "        puntosCorte = np.random.choice(np.arange(1, numGenes), nPuntos, replace=False)\n",
    "                      # `replace=False` es para garantizar que los puntos de corte sí\n",
    "                      # sean diferentes.\n",
    "        puntosCorte.sort()  # Asegura que los puntos de corte están ordenados.\n",
    "\n",
    "        # Iteramos sobre cada cromosoma de los padres\n",
    "        for cromo_idx in range(numCromosomas):\n",
    "            cromo1 = padre1[cromo_idx]\n",
    "            cromo2 = padre2[cromo_idx]\n",
    "\n",
    "            # Alternamos segmentos entre los padres\n",
    "            ultimo_punto = 0\n",
    "            switch = False\n",
    "\n",
    "            for punto in np.append(puntosCorte, numGenes):  # Añadimos el último punto\n",
    "                if switch:\n",
    "                    hijo1[cromo_idx, ultimo_punto:punto] = cromo2[ultimo_punto:punto]\n",
    "                    hijo2[cromo_idx, ultimo_punto:punto] = cromo1[ultimo_punto:punto]\n",
    "                else:\n",
    "                    hijo1[cromo_idx, ultimo_punto:punto] = cromo1[ultimo_punto:punto]\n",
    "                    hijo2[cromo_idx, ultimo_punto:punto] = cromo2[ultimo_punto:punto]\n",
    "\n",
    "                switch = not switch\n",
    "                ultimo_punto = punto\n",
    "\n",
    "        # Guardamos los hijos generados en el array de hijos\n",
    "        hijos[2 * pareja_idx] = hijo1\n",
    "        hijos[2 * pareja_idx + 1] = hijo2\n",
    "\n",
    "    return hijos\n"
   ]
  },
  {
   "cell_type": "code",
   "execution_count": 21,
   "metadata": {},
   "outputs": [
    {
     "name": "stdout",
     "output_type": "stream",
     "text": [
      "[[0 0 1 1 1 1 1 0 0 1 1 1 0 1 1 1 0 1 0 1]\n",
      " [1 1 1 0 0 0 1 1 1 0 0 0 1 1 0 0 1 1 0 0]\n",
      " [0 1 1 1 1 0 0 1 1 0 0 1 0 0 0 0 1 0 1 1]\n",
      " [1 0 1 0 1 1 0 1 1 1 0 0 1 1 0 1 1 0 0 0]\n",
      " [1 0 1 0 1 0 1 1 0 0 0 0 1 0 1 0 1 1 0 1]\n",
      " [1 0 0 0 0 0 1 1 1 0 1 0 0 0 1 1 1 0 0 0]\n",
      " [1 1 1 0 0 1 0 0 0 1 0 1 1 0 1 1 1 0 1 0]\n",
      " [0 0 0 1 1 1 0 0 1 1 1 0 1 1 1 0 1 0 0 1]\n",
      " [1 1 1 0 1 1 0 0 1 0 0 0 0 1 1 0 0 0 1 1]\n",
      " [1 0 1 1 1 0 1 1 1 1 0 0 0 1 0 1 1 1 1 0]]\n"
     ]
    }
   ],
   "source": [
    "# Ejemplo de uso (y compilación AOT)\n",
    "hijosBinarios = Cruza_N_Puntos_np_numba(padresBinarios, nCortes)\n",
    "print(hijosBinarios[0])\n"
   ]
  },
  {
   "cell_type": "code",
   "execution_count": 22,
   "metadata": {},
   "outputs": [],
   "source": [
    "@numba.njit\n",
    "def Mutador_1_flip_np_numba(hijosBinarios, probaMutacion):\n",
    "    \n",
    "    # Obtenemos el número de individuos y cromosomas\n",
    "    numHijos = hijosBinarios.shape[0]\n",
    "    numCromosomas = hijosBinarios.shape[1]\n",
    "    \n",
    "    numBits = hijosBinarios.shape[2]\n",
    "\n",
    "    hijosMutados = np.copy(hijosBinarios)\n",
    "    \n",
    "    # Recorremos cada individuo\n",
    "    for i in range(numHijos):\n",
    "        # Recorremos cada cromosoma del individuo\n",
    "        for j in range(numCromosomas):\n",
    "            # Generamos un número aleatorio\n",
    "            if np.random.rand() < probaMutacion:\n",
    "                # Elegimos un bit al azar dentro del cromosoma\n",
    "                bit_a_flip = np.random.randint(0, numBits)\n",
    "                # Mutar el bit\n",
    "                hijosMutados[i, j, bit_a_flip] ^= 1  # Flip bit\n",
    "                # Modificamos directamente sobre hijosBinarios porque\n",
    "                # a los que realmente consideraremos como hijos en cada\n",
    "                # generación es a los generados después de la reproducción\n",
    "                # y mutación.\n",
    "\n",
    "    return hijosMutados\n"
   ]
  },
  {
   "cell_type": "code",
   "execution_count": 23,
   "metadata": {},
   "outputs": [
    {
     "name": "stdout",
     "output_type": "stream",
     "text": [
      "[[0 0 1 1 1 0 1 0 0 1 1 1 0 1 1 1 0 1 0 1]\n",
      " [1 1 1 0 0 0 1 1 1 0 0 0 1 1 0 0 1 1 0 0]\n",
      " [0 1 0 1 1 0 0 1 1 0 0 1 0 0 0 0 1 0 1 1]\n",
      " [1 0 1 0 1 1 0 1 1 1 0 0 1 1 0 1 1 0 0 0]\n",
      " [1 0 1 0 1 0 1 1 0 0 0 0 1 0 1 0 1 1 0 1]\n",
      " [1 0 0 0 0 0 1 1 1 0 1 0 0 0 1 1 1 0 0 0]\n",
      " [1 1 1 0 0 1 0 0 0 1 0 1 1 0 0 1 1 0 1 0]\n",
      " [0 0 0 1 1 1 0 0 1 1 1 0 1 1 1 1 1 0 0 1]\n",
      " [1 1 1 0 1 1 0 0 1 0 0 0 0 1 1 0 0 0 1 1]\n",
      " [1 0 1 1 1 0 1 1 1 1 0 0 0 1 0 0 1 1 1 0]]\n"
     ]
    }
   ],
   "source": [
    "# Ejemplo de uso (y compilación AOT)\n",
    "hijosMutados = Mutador_1_flip_np_numba(hijosBinarios, probaMutacion)\n",
    "print(hijosMutados[0])\n"
   ]
  },
  {
   "cell_type": "code",
   "execution_count": 24,
   "metadata": {},
   "outputs": [],
   "source": [
    "@numba.njit\n",
    "def Hijos_Decodificados(hijosMutados, nBits, intervalo):\n",
    "    \"\"\"\n",
    "    Decodifica un array de hijos mutados en números reales.\n",
    "\n",
    "    Parámetros:\n",
    "    hijosMutados: np.array de hijos mutados, donde cada hijo es un vector de bits\n",
    "    nBits: número de bits a utilizar para cada número\n",
    "    intervalo: de la forma [a, b]\n",
    "\n",
    "    Retorno:\n",
    "    np.array de números reales decodificados\n",
    "    \"\"\"\n",
    "    \n",
    "    num_hijos = hijosMutados.shape[0]      # Obtenemos el número de hijos\n",
    "    num_cromosomas = hijosMutados.shape[1]  # Obtenemos el número de cromosomas\n",
    "    \n",
    "    # Crea un array vacío para los hijos decodificados\n",
    "    hijosDecodificados = np.empty((num_hijos, num_cromosomas))  # De la forma correcta\n",
    "\n",
    "    for i in range(num_hijos):\n",
    "        for j in range(num_cromosomas):\n",
    "            hijoMutado = hijosMutados[i, j]  # Acceder al cromosoma\n",
    "            \n",
    "            # Decodificación directa del cromosoma\n",
    "            a, b = intervalo\n",
    "            precision = (b - a) / ((2 ** nBits) - 1)  # Calcula la precisión de la representación\n",
    "            # Convierte el vector de bits en un número entero\n",
    "            indice = 0\n",
    "            for bit in range(nBits):\n",
    "                indice += hijoMutado[bit] * (2 ** (nBits - 1 - bit))  # Cálculo del valor decimal\n",
    "            hijoDecodificado = a + indice * precision  # Calcula el número real decodificado\n",
    "            \n",
    "            # Almacena el resultado en el array de salida\n",
    "            hijosDecodificados[i, j] = hijoDecodificado\n",
    "\n",
    "    return hijosDecodificados\n"
   ]
  },
  {
   "cell_type": "code",
   "execution_count": 25,
   "metadata": {},
   "outputs": [
    {
     "name": "stdout",
     "output_type": "stream",
     "text": [
      "[-1.11254208  1.59280035 -0.61495566  0.7328464   0.68867839  0.05822076\n",
      "  1.60560505 -1.5850269   1.73639033  0.95630755]\n"
     ]
    }
   ],
   "source": [
    "# Ejemplo de uso (y compilación AOT)\n",
    "hijosDecodificados = Hijos_Decodificados(hijosMutados, nBits, intervalo)\n",
    "print(hijosDecodificados[0])\n"
   ]
  },
  {
   "cell_type": "markdown",
   "metadata": {},
   "source": [
    "Funciones que realizan el reemplazo generacional:"
   ]
  },
  {
   "cell_type": "code",
   "execution_count": 26,
   "metadata": {},
   "outputs": [],
   "source": [
    "'''Función que realiza el reemplazo con elitismo.'''\n",
    "\n",
    "@numba.njit\n",
    "def Reemplazo_Elitismo(hijosDecodificados, masApto):\n",
    "\n",
    "    numHijos, dimension = hijosDecodificados.shape\n",
    "\n",
    "    # Elegimos el índice de un hijo al azar para eliminarlo:\n",
    "    idx_aleatorio = np.random.randint(0, numHijos)\n",
    "\n",
    "    # Creamos un nuevo array sin el hijo borrado:\n",
    "    hijosReducidos = np.empty((numHijos-1, dimension))\n",
    "    contador = 0\n",
    "    for i in range(numHijos):\n",
    "        if i != idx_aleatorio:\n",
    "            hijosReducidos[contador, :] = hijosDecodificados[i, :]\n",
    "            contador += 1\n",
    "\n",
    "    # Creamos un nuevo array con el más apto antes de la reproducción:\n",
    "    siguienteGeneracion = np.empty((numHijos, dimension))\n",
    "    for i in range(numHijos-1):\n",
    "        siguienteGeneracion[i, :] = hijosReducidos[i, :]\n",
    "    siguienteGeneracion[numHijos-1, :] = masApto\n",
    "\n",
    "    return siguienteGeneracion\n"
   ]
  },
  {
   "cell_type": "code",
   "execution_count": 27,
   "metadata": {},
   "outputs": [
    {
     "name": "stdout",
     "output_type": "stream",
     "text": [
      "[-0.64735204 -0.2230656   0.45692464  0.35117501  0.19631298  0.83231641\n",
      "  0.69957579 -0.004212    0.0200008  -1.38189235]\n"
     ]
    }
   ],
   "source": [
    "# Ejemplo de uso (y compilación AOT)\n",
    "siguienteGen = Reemplazo_Elitismo(hijosDecodificados, masApto)\n",
    "print(siguienteGen[-1])\n"
   ]
  },
  {
   "cell_type": "code",
   "execution_count": 28,
   "metadata": {},
   "outputs": [],
   "source": [
    "'''Función que realiza el reemplazo generacional completo.'''\n",
    "\n",
    "@numba.njit\n",
    "def Reemplazo_Generacional(hijosDecodificados):\n",
    "    \n",
    "    # Hacemos el reemplazo generacional completo:\n",
    "    siguienteGen = np.copy(hijosDecodificados)\n",
    "\n",
    "    return siguienteGen\n",
    "    "
   ]
  },
  {
   "cell_type": "code",
   "execution_count": 29,
   "metadata": {},
   "outputs": [
    {
     "name": "stdout",
     "output_type": "stream",
     "text": [
      "[ 0.42012345  1.02672949  1.03776466 -0.30518974  1.84919903 -0.79953006\n",
      "  0.87317466  0.58339313 -0.34864291 -1.61865975]\n"
     ]
    }
   ],
   "source": [
    "# Ejemplo de uso (y compilación AOT)\n",
    "siguienteGen = Reemplazo_Generacional(hijosDecodificados)\n",
    "print(siguienteGen[-1])\n"
   ]
  },
  {
   "cell_type": "code",
   "execution_count": 30,
   "metadata": {},
   "outputs": [],
   "source": [
    "'''Función que realiza el reemplazo de los peores.'''\n",
    "\n",
    "@numba.njit\n",
    "def Reemplazo_Peores(hijosDecodificados, poblacion, funcion):\n",
    "\n",
    "    # Hacemos un array donde estén concatenados la población\n",
    "    # actual y los hijos:\n",
    "    poblacionTotal = np.vstack((poblacion, hijosDecodificados))\n",
    "\n",
    "    # Calculamos las evaluaciones de todos los individuos en \n",
    "    # la `poblacionTotal`\n",
    "    evaluaciones = np.empty(len(poblacionTotal)) # Array vacío\n",
    "    for i in range(len(poblacionTotal)):\n",
    "        evaluaciones[i] = funcion(poblacionTotal[i])\n",
    "\n",
    "    # Calculamos las aptitudes de los individuos:\n",
    "    aptitudes = np.exp(1e-9 * (-evaluaciones))\n",
    "\n",
    "    # Ordenamos a los individuos de acuerdo a su aptitud en \n",
    "    # orden descendente:\n",
    "    indicesOrdenados = np.argsort(aptitudes)[::-1] \n",
    "    # El ordenamiento es por índices.\n",
    "\n",
    "    # Seleccionamos a los mejores individuos (manteniendo\n",
    "    # el tamaño original de la población).\n",
    "    nuevaPoblacion = poblacionTotal[indicesOrdenados[:len(poblacion)]]\n",
    "\n",
    "    return nuevaPoblacion\n"
   ]
  },
  {
   "cell_type": "code",
   "execution_count": 33,
   "metadata": {},
   "outputs": [
    {
     "name": "stdout",
     "output_type": "stream",
     "text": [
      "[ 1.46381585  0.53408059 -0.23820921 -0.82923321  1.83148026  1.7441169\n",
      "  0.70187762 -1.90269908  1.90051548 -1.18353824]\n"
     ]
    }
   ],
   "source": [
    "# Ejemplo de uso (y compilación AOT)\n",
    "siguienteGen = Reemplazo_Peores(hijosDecodificados, pob, funcion)\n",
    "print(siguienteGen[-1])\n"
   ]
  },
  {
   "cell_type": "markdown",
   "metadata": {},
   "source": [
    "Algoritmos genéticos:"
   ]
  },
  {
   "cell_type": "code",
   "execution_count": 31,
   "metadata": {},
   "outputs": [],
   "source": [
    "@numba.njit\n",
    "def AG_Reemplazo_Elitismo(funcion, intervalo, dimension, \n",
    "                          kindividuos, nBits, nCortes, \n",
    "                          probaMutacion, iteraciones):\n",
    "\n",
    "    # Generamos a nuestra población inicial:\n",
    "    poblacion = Generar_Poblacion(kindividuos, dimension, intervalo)\n",
    "\n",
    "    # Repetiremos esto mientras tengamos iteraciones:\n",
    "    for i in range(iteraciones):\n",
    "\n",
    "        # Calculamos las probabilidades de selección y obtenemos el individuo más apto\n",
    "        probas_pi, masApto, mejorApti, promedioApti = Probabilidades_De_Seleccion_Y_Mas_Apto(funcion, poblacion)\n",
    "\n",
    "        # Calculamos las probabilidades acumulativas\n",
    "        probasAcumulativas_qi = Probas_Acumulativas(probas_pi)\n",
    "\n",
    "        # Seleccionamos a los padres:\n",
    "        padres = Generar_Parejas(poblacion, probasAcumulativas_qi)\n",
    "\n",
    "        # Convertimos a los padres en arreglos de bits.\n",
    "        padresBinarios = Padres_Binarios(padres, nBits, intervalo)\n",
    "\n",
    "        # Cruzamos a los padres para generar hijos (como arreglos binarios).\n",
    "        hijosBinarios = Cruza_N_Puntos_np_numba(padresBinarios, nCortes)\n",
    "\n",
    "        # Aplicamos la mutación 1-flip a los hijos.\n",
    "        hijosMutados = Mutador_1_flip_np_numba(hijosBinarios, probaMutacion)\n",
    "\n",
    "        # Decodificamos a los hijos a su representación original como vectores de reales.\n",
    "        hijosDecodificados = Hijos_Decodificados(hijosMutados, nBits, intervalo)\n",
    "        \n",
    "        # Generamos la siguiente generación, incluyendo el individuo más apto.\n",
    "        poblacion = Reemplazo_Elitismo(hijosDecodificados, masApto)\n",
    "\n",
    "        # Nos interesa la evaluación del más apto:\n",
    "        masAptoEval = funcion(masApto)\n",
    "\n",
    "    return masAptoEval, mejorApti, promedioApti\n"
   ]
  },
  {
   "cell_type": "code",
   "execution_count": 32,
   "metadata": {},
   "outputs": [
    {
     "name": "stdout",
     "output_type": "stream",
     "text": [
      "22.02114629433964\n",
      "0.999999977978854\n",
      "0.9999958307780004\n"
     ]
    }
   ],
   "source": [
    "masAptoEval, mejorApti, promedioApti = AG_Reemplazo_Elitismo(funcion, intervalo, dimension, \n",
    "                                                         kindividuos, nBits, nCortes, \n",
    "                                                         probaMutacion, iteraciones)\n",
    "\n",
    "print(masAptoEval)\n",
    "print(mejorApti)\n",
    "print(promedioApti)\n"
   ]
  },
  {
   "cell_type": "code",
   "execution_count": 33,
   "metadata": {},
   "outputs": [],
   "source": [
    "@numba.njit\n",
    "def AG_Reemplazo_Generacional(funcion, intervalo, dimension, \n",
    "                              kindividuos, nBits, nCortes, \n",
    "                              probaMutacion, iteraciones):\n",
    "\n",
    "    # Generamos a nuestra población inicial:\n",
    "    poblacion = Generar_Poblacion(kindividuos, dimension, intervalo)\n",
    "\n",
    "    # Repetiremos esto mientras tengamos iteraciones:\n",
    "    for i in range(iteraciones):\n",
    "\n",
    "        # Calculamos las probabilidades de selección y obtenemos el individuo más apto\n",
    "        probas_pi, masApto, mejorApti, promedioApti = Probabilidades_De_Seleccion_Y_Mas_Apto(funcion, poblacion)\n",
    "\n",
    "        # Calculamos las probabilidades acumulativas\n",
    "        probasAcumulativas_qi = Probas_Acumulativas(probas_pi)\n",
    "\n",
    "        # Seleccionamos a los padres:\n",
    "        padres = Generar_Parejas(poblacion, probasAcumulativas_qi)\n",
    "\n",
    "        # Convertimos a los padres en arreglos de bits.\n",
    "        padresBinarios = Padres_Binarios(padres, nBits, intervalo)\n",
    "\n",
    "        # Cruzamos a los padres para generar hijos (como arreglos binarios).\n",
    "        hijosBinarios = Cruza_N_Puntos_np_numba(padresBinarios, nCortes)\n",
    "\n",
    "        # Aplicamos la mutación 1-flip a los hijos.\n",
    "        hijosMutados = Mutador_1_flip_np_numba(hijosBinarios, probaMutacion)\n",
    "\n",
    "        # Decodificamos a los hijos a su representación original como vectores de reales.\n",
    "        hijosDecodificados = Hijos_Decodificados(hijosMutados, nBits, intervalo)\n",
    "        \n",
    "        # Generamos la siguiente generación, con reemplazo generacional completo.\n",
    "        poblacion = Reemplazo_Generacional(hijosDecodificados)\n",
    "\n",
    "        # Nos interesa la evaluación del más apto:\n",
    "        masAptoEval = funcion(masApto)\n",
    "\n",
    "    return masAptoEval, mejorApti, promedioApti\n"
   ]
  },
  {
   "cell_type": "code",
   "execution_count": 34,
   "metadata": {},
   "outputs": [
    {
     "name": "stdout",
     "output_type": "stream",
     "text": [
      "459.00259973959385\n",
      "0.9999995409975057\n",
      "0.9999963321530329\n"
     ]
    }
   ],
   "source": [
    "masAptoEval, mejorApti, promedioApti = AG_Reemplazo_Generacional(funcion, intervalo, dimension, \n",
    "                                                                 kindividuos, nBits, nCortes, \n",
    "                                                                 probaMutacion, iteraciones)\n",
    "\n",
    "print(masAptoEval)\n",
    "print(mejorApti)\n",
    "print(promedioApti)\n"
   ]
  },
  {
   "cell_type": "code",
   "execution_count": 35,
   "metadata": {},
   "outputs": [],
   "source": [
    "@numba.njit\n",
    "def AG_Reemplazo_Peores(funcion, intervalo, dimension, \n",
    "                        kindividuos, nBits, nCortes, \n",
    "                        probaMutacion, iteraciones):\n",
    "\n",
    "    # Generamos a nuestra población inicial:\n",
    "    poblacion = Generar_Poblacion(kindividuos, dimension, intervalo)\n",
    "\n",
    "    # Repetiremos esto mientras tengamos iteraciones:\n",
    "    for i in range(iteraciones):\n",
    "\n",
    "        # Calculamos las probabilidades de selección y obtenemos el individuo más apto\n",
    "        probas_pi, masApto, mejorApti, promedioApti = Probabilidades_De_Seleccion_Y_Mas_Apto(funcion, poblacion)\n",
    "\n",
    "        # Calculamos las probabilidades acumulativas\n",
    "        probasAcumulativas_qi = Probas_Acumulativas(probas_pi)\n",
    "\n",
    "        # Seleccionamos a los padres:\n",
    "        padres = Generar_Parejas(poblacion, probasAcumulativas_qi)\n",
    "\n",
    "        # Convertimos a los padres en arreglos de bits.\n",
    "        padresBinarios = Padres_Binarios(padres, nBits, intervalo)\n",
    "\n",
    "        # Cruzamos a los padres para generar hijos (como arreglos binarios).\n",
    "        hijosBinarios = Cruza_N_Puntos_np_numba(padresBinarios, nCortes)\n",
    "\n",
    "        # Aplicamos la mutación 1-flip a los hijos.\n",
    "        hijosMutados = Mutador_1_flip_np_numba(hijosBinarios, probaMutacion)\n",
    "\n",
    "        # Decodificamos a los hijos a su representación original como vectores de reales.\n",
    "        hijosDecodificados = Hijos_Decodificados(hijosMutados, nBits, intervalo)\n",
    "        \n",
    "        # Generamos la siguiente generación, incluyendo el individuo más apto.\n",
    "        poblacion = Reemplazo_Peores(hijosDecodificados, poblacion, funcion)\n",
    "\n",
    "        # Nos interesa la evaluación del más apto:\n",
    "        masAptoEval = funcion(masApto)\n",
    "\n",
    "    return masAptoEval, mejorApti, promedioApti\n"
   ]
  },
  {
   "cell_type": "code",
   "execution_count": 36,
   "metadata": {},
   "outputs": [
    {
     "name": "stdout",
     "output_type": "stream",
     "text": [
      "7.619655458305994\n",
      "0.9999999923803445\n",
      "0.9999999923801951\n"
     ]
    }
   ],
   "source": [
    "masAptoEval, mejorApti, promedioApti = AG_Reemplazo_Peores(funcion, intervalo, dimension, \n",
    "                                                           kindividuos, nBits, nCortes, \n",
    "                                                           probaMutacion, iteraciones)\n",
    "\n",
    "print(masAptoEval)\n",
    "print(mejorApti)\n",
    "print(promedioApti)\n"
   ]
  },
  {
   "cell_type": "code",
   "execution_count": 37,
   "metadata": {},
   "outputs": [
    {
     "name": "stdout",
     "output_type": "stream",
     "text": [
      "Semilla generada: 1728871815\n",
      "Hora de generación: 2024-10-13 20:10:15\n",
      "\n"
     ]
    }
   ],
   "source": [
    "# Establecer una semilla fija\n",
    "import time\n",
    "from datetime import datetime\n",
    "\n",
    "# Generar una semilla basada en la hora del sistema\n",
    "seed = int(time.time()) % (2**32)\n",
    "np.random.seed(seed)\n",
    "\n",
    "# Imprimir la semilla y la hora actual\n",
    "hora_actual = datetime.now().strftime(\"%Y-%m-%d %H:%M:%S\")\n",
    "print(f\"Semilla generada: {seed}\")\n",
    "print(f\"Hora de generación: {hora_actual}\\n\")\n",
    "\n",
    "\n",
    "funcion = Rosenbrock\n",
    "\n",
    "intervalo = intervaloRosenbrock\n",
    "\n",
    "dimension = 10\n",
    "kindividuos = 35 # Tendremos una población del doble\n",
    "nBits = 20\n",
    "nCortes = 16\n",
    "probaMutar = 0.01\n",
    "iteraciones = 1000\n",
    "\n",
    "ejecuciones = 30\n",
    "j = 0\n",
    "\n",
    "\n",
    "\n",
    "while j <= ejecuciones:\n",
    "    masAptoEval, mejorApti, promedioApti = AG_Reemplazo_Elitismo(funcion, intervalo, dimension,   \n",
    "                                                                 kindividuos, nBits, nCortes,     \n",
    "                                                                 probaMutacion, iteraciones)\n",
    "    #print(f\"Rosenbrock:, {str(masApto):<10}, {funcion(masApto)}\")\n",
    "    j += 1\n"
   ]
  },
  {
   "cell_type": "code",
   "execution_count": 41,
   "metadata": {},
   "outputs": [
    {
     "name": "stdout",
     "output_type": "stream",
     "text": [
      "Semilla generada: 1728871883\n",
      "Hora de generación: 2024-10-13 20:11:23\n",
      "\n"
     ]
    }
   ],
   "source": [
    "# Establecer una semilla fija\n",
    "import time\n",
    "from datetime import datetime\n",
    "\n",
    "# Generar una semilla basada en la hora del sistema\n",
    "seed = int(time.time()) % (2**32)\n",
    "np.random.seed(seed)\n",
    "\n",
    "# Imprimir la semilla y la hora actual\n",
    "hora_actual = datetime.now().strftime(\"%Y-%m-%d %H:%M:%S\")\n",
    "print(f\"Semilla generada: {seed}\")\n",
    "print(f\"Hora de generación: {hora_actual}\\n\")\n",
    "\n",
    "\n",
    "funcion = Rosenbrock\n",
    "\n",
    "intervalo = intervaloRosenbrock\n",
    "\n",
    "dimension = 10\n",
    "kindividuos = 35 # Tendremos una población del doble\n",
    "nBits = 20\n",
    "nCortes = 16\n",
    "probaMutar = 0.01\n",
    "iteraciones = 1000\n",
    "\n",
    "ejecuciones = 30\n",
    "j = 0\n",
    "\n",
    "\n",
    "\n",
    "while j <= ejecuciones:\n",
    "    masAptoEval, mejorApti, promedioApti = AG_Reemplazo_Generacional(funcion, intervalo, dimension, \n",
    "                                                                     kindividuos, nBits, nCortes, \n",
    "                                                                     probaMutacion, iteraciones)\n",
    "    #print(f\"Rosenbrock:, {str(masApto):<10}, {funcion(masApto)}\")\n",
    "    j += 1\n"
   ]
  },
  {
   "cell_type": "code",
   "execution_count": 40,
   "metadata": {},
   "outputs": [
    {
     "name": "stdout",
     "output_type": "stream",
     "text": [
      "Semilla generada: 1728871866\n",
      "Hora de generación: 2024-10-13 20:11:06\n",
      "\n"
     ]
    }
   ],
   "source": [
    "# Establecer una semilla fija\n",
    "import time\n",
    "from datetime import datetime\n",
    "\n",
    "# Generar una semilla basada en la hora del sistema\n",
    "seed = int(time.time()) % (2**32)\n",
    "np.random.seed(seed)\n",
    "\n",
    "# Imprimir la semilla y la hora actual\n",
    "hora_actual = datetime.now().strftime(\"%Y-%m-%d %H:%M:%S\")\n",
    "print(f\"Semilla generada: {seed}\")\n",
    "print(f\"Hora de generación: {hora_actual}\\n\")\n",
    "\n",
    "\n",
    "funcion = Rosenbrock\n",
    "\n",
    "intervalo = intervaloRosenbrock\n",
    "\n",
    "dimension = 10\n",
    "kindividuos = 35 # Tendremos una población del doble\n",
    "nBits = 20\n",
    "nCortes = 16\n",
    "probaMutar = 0.01\n",
    "iteraciones = 1000\n",
    "\n",
    "ejecuciones = 30\n",
    "j = 0\n",
    "\n",
    "\n",
    "\n",
    "while j <= ejecuciones:\n",
    "    masAptoEval, mejorApti, promedioApti = AG_Reemplazo_Peores(funcion, intervalo, dimension, \n",
    "                                                               kindividuos, nBits, nCortes, \n",
    "                                                               probaMutacion, iteraciones)\n",
    "    #print(f\"Rosenbrock:, {str(masApto):<10}, {funcion(masApto)}\")\n",
    "    j += 1\n"
   ]
  },
  {
   "cell_type": "markdown",
   "metadata": {},
   "source": []
  }
 ],
 "metadata": {
  "kernelspec": {
   "display_name": "Python 3",
   "language": "python",
   "name": "python3"
  },
  "language_info": {
   "codemirror_mode": {
    "name": "ipython",
    "version": 3
   },
   "file_extension": ".py",
   "mimetype": "text/x-python",
   "name": "python",
   "nbconvert_exporter": "python",
   "pygments_lexer": "ipython3",
   "version": "3.12.5"
  }
 },
 "nbformat": 4,
 "nbformat_minor": 2
}
